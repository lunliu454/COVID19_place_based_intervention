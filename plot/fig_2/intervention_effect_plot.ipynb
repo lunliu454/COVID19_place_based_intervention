{
 "cells": [
  {
   "cell_type": "code",
   "execution_count": 19,
   "metadata": {},
   "outputs": [],
   "source": [
    "import pandas as pd\n",
    "import numpy as np\n",
    "import seaborn as sns\n",
    "import matplotlib.pyplot as plt"
   ]
  },
  {
   "cell_type": "code",
   "execution_count": 20,
   "metadata": {},
   "outputs": [],
   "source": [
    "eff_bra=pd.read_csv(\"plot/fig_2/effect_bra.csv\")"
   ]
  },
  {
   "cell_type": "code",
   "execution_count": 21,
   "metadata": {},
   "outputs": [
    {
     "data": {
      "text/html": [
       "<div>\n",
       "<style scoped>\n",
       "    .dataframe tbody tr th:only-of-type {\n",
       "        vertical-align: middle;\n",
       "    }\n",
       "\n",
       "    .dataframe tbody tr th {\n",
       "        vertical-align: top;\n",
       "    }\n",
       "\n",
       "    .dataframe thead th {\n",
       "        text-align: right;\n",
       "    }\n",
       "</style>\n",
       "<table border=\"1\" class=\"dataframe\">\n",
       "  <thead>\n",
       "    <tr style=\"text-align: right;\">\n",
       "      <th></th>\n",
       "      <th>Unnamed: 0</th>\n",
       "      <th>policy</th>\n",
       "      <th>effect_08</th>\n",
       "      <th>se_effect_08</th>\n",
       "      <th>ci_08_0.95</th>\n",
       "      <th>ci_08_0.5</th>\n",
       "      <th>effect_05</th>\n",
       "      <th>se_effect_05</th>\n",
       "      <th>ci_05_0.95</th>\n",
       "      <th>ci_05_0.5</th>\n",
       "      <th>...</th>\n",
       "      <th>ci_06_0.95</th>\n",
       "      <th>ci_06_0.5</th>\n",
       "      <th>effect_07</th>\n",
       "      <th>se_effect_07</th>\n",
       "      <th>ci_07_0.95</th>\n",
       "      <th>ci_07_0.5</th>\n",
       "      <th>effect_09</th>\n",
       "      <th>se_effect_09</th>\n",
       "      <th>ci_09_0.95</th>\n",
       "      <th>ci_09_0.5</th>\n",
       "    </tr>\n",
       "  </thead>\n",
       "  <tbody>\n",
       "    <tr>\n",
       "      <th>0</th>\n",
       "      <td>1</td>\n",
       "      <td>Stay-at-home</td>\n",
       "      <td>-0.009370</td>\n",
       "      <td>0.099753</td>\n",
       "      <td>0.391034</td>\n",
       "      <td>0.131675</td>\n",
       "      <td>0.015166</td>\n",
       "      <td>0.088239</td>\n",
       "      <td>0.345899</td>\n",
       "      <td>0.116476</td>\n",
       "      <td>...</td>\n",
       "      <td>0.410461</td>\n",
       "      <td>0.138216</td>\n",
       "      <td>0.008377</td>\n",
       "      <td>0.083791</td>\n",
       "      <td>0.328460</td>\n",
       "      <td>0.110604</td>\n",
       "      <td>-0.005330</td>\n",
       "      <td>0.116916</td>\n",
       "      <td>0.458312</td>\n",
       "      <td>0.154330</td>\n",
       "    </tr>\n",
       "    <tr>\n",
       "      <th>1</th>\n",
       "      <td>2</td>\n",
       "      <td>School+childcare closure</td>\n",
       "      <td>0.355579</td>\n",
       "      <td>0.045179</td>\n",
       "      <td>0.177100</td>\n",
       "      <td>0.059636</td>\n",
       "      <td>0.336687</td>\n",
       "      <td>0.056552</td>\n",
       "      <td>0.221684</td>\n",
       "      <td>0.074649</td>\n",
       "      <td>...</td>\n",
       "      <td>0.109238</td>\n",
       "      <td>0.036784</td>\n",
       "      <td>0.355174</td>\n",
       "      <td>0.040594</td>\n",
       "      <td>0.159128</td>\n",
       "      <td>0.053584</td>\n",
       "      <td>0.346393</td>\n",
       "      <td>0.062706</td>\n",
       "      <td>0.245807</td>\n",
       "      <td>0.082772</td>\n",
       "    </tr>\n",
       "    <tr>\n",
       "      <th>2</th>\n",
       "      <td>3</td>\n",
       "      <td>Office closure</td>\n",
       "      <td>0.057780</td>\n",
       "      <td>0.095964</td>\n",
       "      <td>0.376180</td>\n",
       "      <td>0.126673</td>\n",
       "      <td>0.054024</td>\n",
       "      <td>0.117932</td>\n",
       "      <td>0.462295</td>\n",
       "      <td>0.155671</td>\n",
       "      <td>...</td>\n",
       "      <td>0.460439</td>\n",
       "      <td>0.155046</td>\n",
       "      <td>0.061056</td>\n",
       "      <td>0.117531</td>\n",
       "      <td>0.460720</td>\n",
       "      <td>0.155141</td>\n",
       "      <td>0.061465</td>\n",
       "      <td>0.111054</td>\n",
       "      <td>0.435333</td>\n",
       "      <td>0.146592</td>\n",
       "    </tr>\n",
       "    <tr>\n",
       "      <th>3</th>\n",
       "      <td>4</td>\n",
       "      <td>Non-essential retail closure</td>\n",
       "      <td>-0.118115</td>\n",
       "      <td>0.134382</td>\n",
       "      <td>0.526777</td>\n",
       "      <td>0.177384</td>\n",
       "      <td>-0.092587</td>\n",
       "      <td>0.095513</td>\n",
       "      <td>0.374410</td>\n",
       "      <td>0.126077</td>\n",
       "      <td>...</td>\n",
       "      <td>0.492071</td>\n",
       "      <td>0.165698</td>\n",
       "      <td>-0.106883</td>\n",
       "      <td>0.128104</td>\n",
       "      <td>0.502166</td>\n",
       "      <td>0.169097</td>\n",
       "      <td>-0.118918</td>\n",
       "      <td>0.119508</td>\n",
       "      <td>0.468471</td>\n",
       "      <td>0.157750</td>\n",
       "    </tr>\n",
       "    <tr>\n",
       "      <th>4</th>\n",
       "      <td>5</td>\n",
       "      <td>Restaurant closure</td>\n",
       "      <td>-0.052304</td>\n",
       "      <td>0.115644</td>\n",
       "      <td>0.453324</td>\n",
       "      <td>0.152650</td>\n",
       "      <td>-0.134429</td>\n",
       "      <td>0.143282</td>\n",
       "      <td>0.561666</td>\n",
       "      <td>0.189132</td>\n",
       "      <td>...</td>\n",
       "      <td>0.321494</td>\n",
       "      <td>0.108258</td>\n",
       "      <td>-0.136077</td>\n",
       "      <td>0.079407</td>\n",
       "      <td>0.311276</td>\n",
       "      <td>0.104817</td>\n",
       "      <td>-0.042013</td>\n",
       "      <td>0.053874</td>\n",
       "      <td>0.211187</td>\n",
       "      <td>0.071114</td>\n",
       "    </tr>\n",
       "    <tr>\n",
       "      <th>5</th>\n",
       "      <td>6</td>\n",
       "      <td>Bar closure</td>\n",
       "      <td>-0.003915</td>\n",
       "      <td>0.119525</td>\n",
       "      <td>0.468540</td>\n",
       "      <td>0.157774</td>\n",
       "      <td>-0.024753</td>\n",
       "      <td>0.063566</td>\n",
       "      <td>0.249178</td>\n",
       "      <td>0.083907</td>\n",
       "      <td>...</td>\n",
       "      <td>0.457738</td>\n",
       "      <td>0.154136</td>\n",
       "      <td>-0.042866</td>\n",
       "      <td>0.127774</td>\n",
       "      <td>0.500872</td>\n",
       "      <td>0.168661</td>\n",
       "      <td>0.008078</td>\n",
       "      <td>0.088132</td>\n",
       "      <td>0.345476</td>\n",
       "      <td>0.116334</td>\n",
       "    </tr>\n",
       "    <tr>\n",
       "      <th>6</th>\n",
       "      <td>7</td>\n",
       "      <td>Entertainment venue closure</td>\n",
       "      <td>0.048016</td>\n",
       "      <td>0.174348</td>\n",
       "      <td>0.683443</td>\n",
       "      <td>0.230139</td>\n",
       "      <td>0.109087</td>\n",
       "      <td>0.134431</td>\n",
       "      <td>0.526968</td>\n",
       "      <td>0.177448</td>\n",
       "      <td>...</td>\n",
       "      <td>0.554534</td>\n",
       "      <td>0.186731</td>\n",
       "      <td>0.151933</td>\n",
       "      <td>0.142233</td>\n",
       "      <td>0.557553</td>\n",
       "      <td>0.187748</td>\n",
       "      <td>0.088754</td>\n",
       "      <td>0.212158</td>\n",
       "      <td>0.831659</td>\n",
       "      <td>0.280048</td>\n",
       "    </tr>\n",
       "    <tr>\n",
       "      <th>7</th>\n",
       "      <td>8</td>\n",
       "      <td>Cultural venue closure</td>\n",
       "      <td>-0.175003</td>\n",
       "      <td>0.166151</td>\n",
       "      <td>0.651310</td>\n",
       "      <td>0.219319</td>\n",
       "      <td>-0.140455</td>\n",
       "      <td>0.109590</td>\n",
       "      <td>0.429592</td>\n",
       "      <td>0.144658</td>\n",
       "      <td>...</td>\n",
       "      <td>0.657076</td>\n",
       "      <td>0.221260</td>\n",
       "      <td>-0.112484</td>\n",
       "      <td>0.216826</td>\n",
       "      <td>0.849957</td>\n",
       "      <td>0.286210</td>\n",
       "      <td>-0.135308</td>\n",
       "      <td>0.151915</td>\n",
       "      <td>0.595509</td>\n",
       "      <td>0.200528</td>\n",
       "    </tr>\n",
       "    <tr>\n",
       "      <th>8</th>\n",
       "      <td>9</td>\n",
       "      <td>Religious place closure</td>\n",
       "      <td>0.060379</td>\n",
       "      <td>0.300307</td>\n",
       "      <td>1.177205</td>\n",
       "      <td>0.396406</td>\n",
       "      <td>0.028289</td>\n",
       "      <td>0.358058</td>\n",
       "      <td>1.403587</td>\n",
       "      <td>0.472637</td>\n",
       "      <td>...</td>\n",
       "      <td>1.134795</td>\n",
       "      <td>0.382125</td>\n",
       "      <td>0.034449</td>\n",
       "      <td>0.299671</td>\n",
       "      <td>1.174710</td>\n",
       "      <td>0.395566</td>\n",
       "      <td>0.027610</td>\n",
       "      <td>0.247782</td>\n",
       "      <td>0.971305</td>\n",
       "      <td>0.327072</td>\n",
       "    </tr>\n",
       "    <tr>\n",
       "      <th>9</th>\n",
       "      <td>10</td>\n",
       "      <td>Indoor sports closure</td>\n",
       "      <td>0.081166</td>\n",
       "      <td>0.227024</td>\n",
       "      <td>0.889935</td>\n",
       "      <td>0.299672</td>\n",
       "      <td>0.095825</td>\n",
       "      <td>0.222074</td>\n",
       "      <td>0.870531</td>\n",
       "      <td>0.293138</td>\n",
       "      <td>...</td>\n",
       "      <td>0.994099</td>\n",
       "      <td>0.334748</td>\n",
       "      <td>0.096311</td>\n",
       "      <td>0.179816</td>\n",
       "      <td>0.704877</td>\n",
       "      <td>0.237357</td>\n",
       "      <td>0.105560</td>\n",
       "      <td>0.209157</td>\n",
       "      <td>0.819897</td>\n",
       "      <td>0.276088</td>\n",
       "    </tr>\n",
       "    <tr>\n",
       "      <th>10</th>\n",
       "      <td>11</td>\n",
       "      <td>Outdoor sports closure</td>\n",
       "      <td>-0.042176</td>\n",
       "      <td>0.084455</td>\n",
       "      <td>0.331064</td>\n",
       "      <td>0.111481</td>\n",
       "      <td>0.118758</td>\n",
       "      <td>0.093539</td>\n",
       "      <td>0.366674</td>\n",
       "      <td>0.123472</td>\n",
       "      <td>...</td>\n",
       "      <td>0.356833</td>\n",
       "      <td>0.120158</td>\n",
       "      <td>0.019914</td>\n",
       "      <td>0.155593</td>\n",
       "      <td>0.609925</td>\n",
       "      <td>0.205383</td>\n",
       "      <td>0.048677</td>\n",
       "      <td>0.079759</td>\n",
       "      <td>0.312655</td>\n",
       "      <td>0.105282</td>\n",
       "    </tr>\n",
       "    <tr>\n",
       "      <th>11</th>\n",
       "      <td>12</td>\n",
       "      <td>No gathering &lt;=10 (indoor+outdoor)</td>\n",
       "      <td>-0.052941</td>\n",
       "      <td>0.014164</td>\n",
       "      <td>0.055521</td>\n",
       "      <td>0.018696</td>\n",
       "      <td>-0.056421</td>\n",
       "      <td>0.011863</td>\n",
       "      <td>0.046502</td>\n",
       "      <td>0.015659</td>\n",
       "      <td>...</td>\n",
       "      <td>0.043333</td>\n",
       "      <td>0.014592</td>\n",
       "      <td>-0.054496</td>\n",
       "      <td>0.011094</td>\n",
       "      <td>0.043488</td>\n",
       "      <td>0.014644</td>\n",
       "      <td>-0.054211</td>\n",
       "      <td>0.008393</td>\n",
       "      <td>0.032902</td>\n",
       "      <td>0.011079</td>\n",
       "    </tr>\n",
       "    <tr>\n",
       "      <th>12</th>\n",
       "      <td>13</td>\n",
       "      <td>No gathering &gt;10 (indoor+outdoor)</td>\n",
       "      <td>-0.085841</td>\n",
       "      <td>0.011505</td>\n",
       "      <td>0.045101</td>\n",
       "      <td>0.015187</td>\n",
       "      <td>-0.081513</td>\n",
       "      <td>0.008013</td>\n",
       "      <td>0.031411</td>\n",
       "      <td>0.010577</td>\n",
       "      <td>...</td>\n",
       "      <td>0.025055</td>\n",
       "      <td>0.008437</td>\n",
       "      <td>-0.087746</td>\n",
       "      <td>0.007856</td>\n",
       "      <td>0.030796</td>\n",
       "      <td>0.010370</td>\n",
       "      <td>-0.088272</td>\n",
       "      <td>0.009394</td>\n",
       "      <td>0.036823</td>\n",
       "      <td>0.012400</td>\n",
       "    </tr>\n",
       "  </tbody>\n",
       "</table>\n",
       "<p>13 rows × 22 columns</p>\n",
       "</div>"
      ],
      "text/plain": [
       "    Unnamed: 0                              policy  effect_08  se_effect_08  \\\n",
       "0            1                        Stay-at-home  -0.009370      0.099753   \n",
       "1            2            School+childcare closure   0.355579      0.045179   \n",
       "2            3                      Office closure   0.057780      0.095964   \n",
       "3            4        Non-essential retail closure  -0.118115      0.134382   \n",
       "4            5                  Restaurant closure  -0.052304      0.115644   \n",
       "5            6                         Bar closure  -0.003915      0.119525   \n",
       "6            7         Entertainment venue closure   0.048016      0.174348   \n",
       "7            8              Cultural venue closure  -0.175003      0.166151   \n",
       "8            9             Religious place closure   0.060379      0.300307   \n",
       "9           10               Indoor sports closure   0.081166      0.227024   \n",
       "10          11              Outdoor sports closure  -0.042176      0.084455   \n",
       "11          12  No gathering <=10 (indoor+outdoor)  -0.052941      0.014164   \n",
       "12          13   No gathering >10 (indoor+outdoor)  -0.085841      0.011505   \n",
       "\n",
       "    ci_08_0.95  ci_08_0.5  effect_05  se_effect_05  ci_05_0.95  ci_05_0.5  \\\n",
       "0     0.391034   0.131675   0.015166      0.088239    0.345899   0.116476   \n",
       "1     0.177100   0.059636   0.336687      0.056552    0.221684   0.074649   \n",
       "2     0.376180   0.126673   0.054024      0.117932    0.462295   0.155671   \n",
       "3     0.526777   0.177384  -0.092587      0.095513    0.374410   0.126077   \n",
       "4     0.453324   0.152650  -0.134429      0.143282    0.561666   0.189132   \n",
       "5     0.468540   0.157774  -0.024753      0.063566    0.249178   0.083907   \n",
       "6     0.683443   0.230139   0.109087      0.134431    0.526968   0.177448   \n",
       "7     0.651310   0.219319  -0.140455      0.109590    0.429592   0.144658   \n",
       "8     1.177205   0.396406   0.028289      0.358058    1.403587   0.472637   \n",
       "9     0.889935   0.299672   0.095825      0.222074    0.870531   0.293138   \n",
       "10    0.331064   0.111481   0.118758      0.093539    0.366674   0.123472   \n",
       "11    0.055521   0.018696  -0.056421      0.011863    0.046502   0.015659   \n",
       "12    0.045101   0.015187  -0.081513      0.008013    0.031411   0.010577   \n",
       "\n",
       "    ...  ci_06_0.95  ci_06_0.5  effect_07  se_effect_07  ci_07_0.95  \\\n",
       "0   ...    0.410461   0.138216   0.008377      0.083791    0.328460   \n",
       "1   ...    0.109238   0.036784   0.355174      0.040594    0.159128   \n",
       "2   ...    0.460439   0.155046   0.061056      0.117531    0.460720   \n",
       "3   ...    0.492071   0.165698  -0.106883      0.128104    0.502166   \n",
       "4   ...    0.321494   0.108258  -0.136077      0.079407    0.311276   \n",
       "5   ...    0.457738   0.154136  -0.042866      0.127774    0.500872   \n",
       "6   ...    0.554534   0.186731   0.151933      0.142233    0.557553   \n",
       "7   ...    0.657076   0.221260  -0.112484      0.216826    0.849957   \n",
       "8   ...    1.134795   0.382125   0.034449      0.299671    1.174710   \n",
       "9   ...    0.994099   0.334748   0.096311      0.179816    0.704877   \n",
       "10  ...    0.356833   0.120158   0.019914      0.155593    0.609925   \n",
       "11  ...    0.043333   0.014592  -0.054496      0.011094    0.043488   \n",
       "12  ...    0.025055   0.008437  -0.087746      0.007856    0.030796   \n",
       "\n",
       "    ci_07_0.5  effect_09  se_effect_09  ci_09_0.95  ci_09_0.5  \n",
       "0    0.110604  -0.005330      0.116916    0.458312   0.154330  \n",
       "1    0.053584   0.346393      0.062706    0.245807   0.082772  \n",
       "2    0.155141   0.061465      0.111054    0.435333   0.146592  \n",
       "3    0.169097  -0.118918      0.119508    0.468471   0.157750  \n",
       "4    0.104817  -0.042013      0.053874    0.211187   0.071114  \n",
       "5    0.168661   0.008078      0.088132    0.345476   0.116334  \n",
       "6    0.187748   0.088754      0.212158    0.831659   0.280048  \n",
       "7    0.286210  -0.135308      0.151915    0.595509   0.200528  \n",
       "8    0.395566   0.027610      0.247782    0.971305   0.327072  \n",
       "9    0.237357   0.105560      0.209157    0.819897   0.276088  \n",
       "10   0.205383   0.048677      0.079759    0.312655   0.105282  \n",
       "11   0.014644  -0.054211      0.008393    0.032902   0.011079  \n",
       "12   0.010370  -0.088272      0.009394    0.036823   0.012400  \n",
       "\n",
       "[13 rows x 22 columns]"
      ]
     },
     "execution_count": 21,
     "metadata": {},
     "output_type": "execute_result"
    }
   ],
   "source": [
    "eff_bra"
   ]
  },
  {
   "cell_type": "code",
   "execution_count": 58,
   "metadata": {},
   "outputs": [
    {
     "data": {
      "text/plain": [
       "Text(0.5, 0, 'Brazil')"
      ]
     },
     "execution_count": 58,
     "metadata": {},
     "output_type": "execute_result"
    },
    {
     "data": {
      "image/png": "[encoded data removed]",
      "text/plain": [
       "<Figure size 432x288 with 1 Axes>"
      ]
     },
     "metadata": {
      "needs_background": "light"
     },
     "output_type": "display_data"
    }
   ],
   "source": [
    "fig, ax = plt.subplots()\n",
    "\n",
    "ax.spines['left'].set_visible(False)\n",
    "ax.spines['right'].set_visible(False)\n",
    "ax.spines['top'].set_visible(False)\n",
    "plt.axvline(x=0,ls=\"-\",linewidth=0.6,c=\"black\")\n",
    "\n",
    "plt.tick_params(labelsize=10)\n",
    "plt.errorbar(x=eff_bra[\"effect_08\"][::-1], \n",
    "             y=eff_bra[\"policy\"][::-1], \n",
    "             xerr=eff_bra[\"ci_08_0.5\"][::-1]/2, \n",
    "             fmt=\"o\", \n",
    "             markersize=6,\n",
    "             capsize=2, \n",
    "             elinewidth=1, \n",
    "             barsabove=True, \n",
    "             color='dimgray')\n",
    "plt.errorbar(x=eff_bra[\"effect_08\"][::-1], \n",
    "             y=eff_bra[\"policy\"][::-1], \n",
    "             xerr=eff_bra[\"ci_08_0.95\"][::-1]/2, \n",
    "             fmt=\"o\", \n",
    "             markersize=6,\n",
    "             capsize=2, \n",
    "             elinewidth=1, \n",
    "             alpha=0.5,\n",
    "             barsabove=True, \n",
    "             color='dimgray')\n",
    "\n",
    "plt.xlabel('Brazil',fontsize=15)"
   ]
  },
  {
   "cell_type": "code",
   "execution_count": 60,
   "metadata": {},
   "outputs": [],
   "source": [
    "fig.savefig(\"plot/fig_2/effect_bra\",bbox_inches='tight',dpi=1080)"
   ]
  },
  {
   "cell_type": "code",
   "execution_count": 63,
   "metadata": {},
   "outputs": [],
   "source": [
    "eff_ger=pd.read_csv(\"plot/fig_2/effect_ger.csv\")"
   ]
  },
  {
   "cell_type": "code",
   "execution_count": 65,
   "metadata": {},
   "outputs": [
    {
     "data": {
      "text/plain": [
       "Text(0.5, 0, 'Germany')"
      ]
     },
     "execution_count": 65,
     "metadata": {},
     "output_type": "execute_result"
    },
    {
     "data": {
      "image/png": "[encoded data removed]",
      "text/plain": [
       "<Figure size 432x288 with 1 Axes>"
      ]
     },
     "metadata": {
      "needs_background": "light"
     },
     "output_type": "display_data"
    }
   ],
   "source": [
    "fig2, ax = plt.subplots()\n",
    "\n",
    "ax.spines['left'].set_visible(False)\n",
    "ax.spines['right'].set_visible(False)\n",
    "ax.spines['top'].set_visible(False)\n",
    "plt.axvline(x=0,ls=\"-\",linewidth=0.6,c=\"black\")\n",
    "\n",
    "plt.tick_params(labelsize=10)\n",
    "plt.errorbar(x=eff_ger[\"effect_08\"][::-1], \n",
    "             y=eff_ger[\"policy\"][::-1], \n",
    "             xerr=eff_ger[\"ci_08_0.5\"][::-1]/2, \n",
    "             fmt=\"o\", \n",
    "             markersize=6,\n",
    "             capsize=2, \n",
    "             elinewidth=1, \n",
    "             barsabove=True, \n",
    "             color='dimgray')\n",
    "plt.errorbar(x=eff_ger[\"effect_08\"][::-1], \n",
    "             y=eff_ger[\"policy\"][::-1], \n",
    "             xerr=eff_ger[\"ci_08_0.95\"][::-1]/2, \n",
    "             fmt=\"o\", \n",
    "             markersize=6,\n",
    "             capsize=2, \n",
    "             elinewidth=1, \n",
    "             alpha=0.5,\n",
    "             barsabove=True, \n",
    "             color='dimgray')\n",
    "\n",
    "plt.xlabel('Germany',fontsize=15)"
   ]
  },
  {
   "cell_type": "code",
   "execution_count": 67,
   "metadata": {},
   "outputs": [],
   "source": [
    "fig2.savefig(\"plot/fig_2/effect_ger\",bbox_inches='tight',dpi=1080)"
   ]
  },
  {
   "cell_type": "code",
   "execution_count": 68,
   "metadata": {},
   "outputs": [],
   "source": [
    "eff_jp=pd.read_csv(\"plot/fig_2/effect_jp.csv\")"
   ]
  },
  {
   "cell_type": "code",
   "execution_count": 69,
   "metadata": {},
   "outputs": [
    {
     "data": {
      "text/plain": [
       "Text(0.5, 0, 'Japan')"
      ]
     },
     "execution_count": 69,
     "metadata": {},
     "output_type": "execute_result"
    },
    {
     "data": {
      "image/png": "[encoded data removed]",
      "text/plain": [
       "<Figure size 432x288 with 1 Axes>"
      ]
     },
     "metadata": {
      "needs_background": "light"
     },
     "output_type": "display_data"
    }
   ],
   "source": [
    "fig3, ax = plt.subplots()\n",
    "\n",
    "ax.spines['left'].set_visible(False)\n",
    "ax.spines['right'].set_visible(False)\n",
    "ax.spines['top'].set_visible(False)\n",
    "plt.axvline(x=0,ls=\"-\",linewidth=0.6,c=\"black\")\n",
    "\n",
    "plt.tick_params(labelsize=10)\n",
    "plt.errorbar(x=eff_jp[\"effect_08\"][::-1], \n",
    "             y=eff_jp[\"policy\"][::-1], \n",
    "             xerr=eff_jp[\"ci_08_0.5\"][::-1]/2, \n",
    "             fmt=\"o\", \n",
    "             markersize=6,\n",
    "             capsize=2, \n",
    "             elinewidth=1, \n",
    "             barsabove=True, \n",
    "             color='dimgray')\n",
    "plt.errorbar(x=eff_jp[\"effect_08\"][::-1], \n",
    "             y=eff_jp[\"policy\"][::-1], \n",
    "             xerr=eff_jp[\"ci_08_0.95\"][::-1]/2, \n",
    "             fmt=\"o\", \n",
    "             markersize=6,\n",
    "             capsize=2, \n",
    "             elinewidth=1, \n",
    "             alpha=0.5,\n",
    "             barsabove=True, \n",
    "             color='dimgray')\n",
    "\n",
    "plt.xlabel('Japan',fontsize=15)"
   ]
  },
  {
   "cell_type": "code",
   "execution_count": 70,
   "metadata": {},
   "outputs": [],
   "source": [
    "fig3.savefig(\"plot/fig_2/effect_jp\",bbox_inches='tight',dpi=1080)"
   ]
  },
  {
   "cell_type": "code",
   "execution_count": 71,
   "metadata": {},
   "outputs": [],
   "source": [
    "eff_uk=pd.read_csv(\"plot/fig_2/effect_uk.csv\")"
   ]
  },
  {
   "cell_type": "code",
   "execution_count": 85,
   "metadata": {},
   "outputs": [],
   "source": [
    "import matplotlib.pyplot as plt\n",
    "from matplotlib.pyplot import MultipleLocator"
   ]
  },
  {
   "cell_type": "code",
   "execution_count": 129,
   "metadata": {},
   "outputs": [
    {
     "data": {
      "text/plain": [
       "(-0.7, 4.0)"
      ]
     },
     "execution_count": 129,
     "metadata": {},
     "output_type": "execute_result"
    },
    {
     "data": {
      "image/png": "[encoded data removed]",
      "text/plain": [
       "<Figure size 432x108 with 1 Axes>"
      ]
     },
     "metadata": {
      "needs_background": "light"
     },
     "output_type": "display_data"
    }
   ],
   "source": [
    "fig4,ax = plt.subplots(figsize=(6,1.5))\n",
    "\n",
    "ax.spines['left'].set_visible(False)\n",
    "ax.spines['right'].set_visible(False)\n",
    "ax.spines['top'].set_visible(False)\n",
    "plt.axvline(x=0,ls=\"-\",linewidth=0.6,c=\"black\")\n",
    "\n",
    "plt.tick_params(labelsize=10)\n",
    "plt.errorbar(x=eff_uk[\"effect_08\"][::-1], \n",
    "             y=eff_uk[\"policy\"][::-1], \n",
    "             xerr=eff_uk[\"ci_08_0.5\"][::-1]/2, \n",
    "             fmt=\"o\", \n",
    "             markersize=6,\n",
    "             capsize=2, \n",
    "             elinewidth=1, \n",
    "             barsabove=True, \n",
    "             color='dimgray')\n",
    "plt.errorbar(x=eff_uk[\"effect_08\"][::-1], \n",
    "             y=eff_uk[\"policy\"][::-1], \n",
    "             xerr=eff_uk[\"ci_08_0.95\"][::-1]/2, \n",
    "             fmt=\"o\", \n",
    "             markersize=6,\n",
    "             capsize=2, \n",
    "             elinewidth=1, \n",
    "             alpha=0.5,\n",
    "             barsabove=True, \n",
    "             color='dimgray')\n",
    "\n",
    "plt.xlabel('UK',fontsize=15)\n",
    "plt.ylim(-0.7,4)"
   ]
  },
  {
   "cell_type": "code",
   "execution_count": null,
   "metadata": {},
   "outputs": [],
   "source": [
    "fig4.savefig(\"plot/fig_2/effect_uk\",bbox_inches='tight',dpi=1080)"
   ]
  },
  {
   "cell_type": "code",
   "execution_count": 98,
   "metadata": {},
   "outputs": [],
   "source": [
    "eff_us=pd.read_csv(\"plot/fig_2/effect_us.csv\")"
   ]
  },
  {
   "cell_type": "code",
   "execution_count": 102,
   "metadata": {},
   "outputs": [
    {
     "data": {
      "text/plain": [
       "Text(0.5, 0, 'US')"
      ]
     },
     "execution_count": 102,
     "metadata": {},
     "output_type": "execute_result"
    },
    {
     "data": {
      "image/png": "[encoded data removed]",
      "text/plain": [
       "<Figure size 432x288 with 1 Axes>"
      ]
     },
     "metadata": {
      "needs_background": "light"
     },
     "output_type": "display_data"
    }
   ],
   "source": [
    "fig5, ax = plt.subplots()\n",
    "\n",
    "ax.spines['left'].set_visible(False)\n",
    "ax.spines['right'].set_visible(False)\n",
    "ax.spines['top'].set_visible(False)\n",
    "plt.axvline(x=0,ls=\"-\",linewidth=0.6,c=\"black\")\n",
    "\n",
    "plt.tick_params(labelsize=10)\n",
    "plt.errorbar(x=eff_us[\"effect_08\"][::-1], \n",
    "             y=eff_us[\"policy\"][::-1], \n",
    "             xerr=eff_us[\"ci_08_0.5\"][::-1]/2, \n",
    "             fmt=\"o\", \n",
    "             markersize=6,\n",
    "             capsize=2, \n",
    "             elinewidth=1, \n",
    "             barsabove=True, \n",
    "             color='dimgray')\n",
    "plt.errorbar(x=eff_us[\"effect_08\"][::-1], \n",
    "             y=eff_us[\"policy\"][::-1], \n",
    "             xerr=eff_us[\"ci_08_0.95\"][::-1]/2, \n",
    "             fmt=\"o\", \n",
    "             markersize=6,\n",
    "             capsize=2, \n",
    "             elinewidth=1, \n",
    "             alpha=0.5,\n",
    "             barsabove=True, \n",
    "             color='dimgray')\n",
    "\n",
    "plt.xlabel('US',fontsize=15)"
   ]
  },
  {
   "cell_type": "code",
   "execution_count": 103,
   "metadata": {},
   "outputs": [],
   "source": [
    "fig5.savefig(\"plot/fig_2/effect_us\",bbox_inches='tight',dpi=1080)"
   ]
  },
  {
   "cell_type": "code",
   "execution_count": 104,
   "metadata": {},
   "outputs": [],
   "source": [
    "eff_kor=pd.read_csv(\"plot/fig_2/effect_kor.csv\")"
   ]
  },
  {
   "cell_type": "code",
   "execution_count": 125,
   "metadata": {},
   "outputs": [
    {
     "data": {
      "text/plain": [
       "(-0.7, 4.0)"
      ]
     },
     "execution_count": 125,
     "metadata": {},
     "output_type": "execute_result"
    },
    {
     "data": {
      "image/png": "[encoded data removed]",
      "text/plain": [
       "<Figure size 432x122.4 with 1 Axes>"
      ]
     },
     "metadata": {
      "needs_background": "light"
     },
     "output_type": "display_data"
    }
   ],
   "source": [
    "fig6,ax = plt.subplots(figsize=(6,1.7))\n",
    "\n",
    "ax.spines['left'].set_visible(False)\n",
    "ax.spines['right'].set_visible(False)\n",
    "ax.spines['top'].set_visible(False)\n",
    "plt.axvline(x=0,ls=\"-\",linewidth=0.6,c=\"black\")\n",
    "\n",
    "plt.tick_params(labelsize=10)\n",
    "plt.errorbar(x=eff_kor[\"effect_08\"][::-1], \n",
    "             y=eff_kor[\"policy\"][::-1], \n",
    "             xerr=eff_kor[\"ci_08_0.5\"][::-1]/2, \n",
    "             fmt=\"o\", \n",
    "             markersize=6,\n",
    "             capsize=2, \n",
    "             elinewidth=1, \n",
    "             barsabove=True, \n",
    "             color='dimgray')\n",
    "plt.errorbar(x=eff_kor[\"effect_08\"][::-1], \n",
    "             y=eff_kor[\"policy\"][::-1], \n",
    "             xerr=eff_kor[\"ci_08_0.95\"][::-1]/2, \n",
    "             fmt=\"o\", \n",
    "             markersize=6,\n",
    "             capsize=2, \n",
    "             elinewidth=1, \n",
    "             alpha=0.5,\n",
    "             barsabove=True, \n",
    "             color='dimgray')\n",
    "\n",
    "plt.xlabel('South Korea',fontsize=15)\n",
    "plt.ylim(-0.7,4)"
   ]
  },
  {
   "cell_type": "code",
   "execution_count": 126,
   "metadata": {},
   "outputs": [],
   "source": [
    "fig6.savefig(\"plot/fig_2/effect_kor\",bbox_inches='tight',dpi=1080)"
   ]
  },
  {
   "cell_type": "code",
   "execution_count": null,
   "metadata": {},
   "outputs": [],
   "source": []
  }
 ],
 "metadata": {
  "kernelspec": {
   "display_name": "Python 3",
   "language": "python",
   "name": "python3"
  },
  "language_info": {
   "codemirror_mode": {
    "name": "ipython",
    "version": 3
   },
   "file_extension": ".py",
   "mimetype": "text/x-python",
   "name": "python",
   "nbconvert_exporter": "python",
   "pygments_lexer": "ipython3",
   "version": "3.8.8"
  }
 },
 "nbformat": 4,
 "nbformat_minor": 4
}
